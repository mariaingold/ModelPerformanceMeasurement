{
  "cells": [
    {
      "cell_type": "markdown",
      "metadata": {
        "id": "pD7W0oAEP6h5"
      },
      "source": [
        "# Model performance measurement\n",
        "\n",
        "Comments\n",
        "- Original code provided by UoEO had almost no comments\n",
        "- Maria Ingold added comments\n",
        "\n",
        "Assignment asked for:\n",
        "- Change different parameters\n",
        "- Observe impact on AUC\n",
        "- Observe impact on R Squared error.\n",
        "\n",
        "Maria Ingold added test sections\n"
      ],
      "id": "pD7W0oAEP6h5"
    },
    {
      "cell_type": "markdown",
      "source": [
        "## Confusion Matrix"
      ],
      "metadata": {
        "id": "7Xj-Uyxra9I1"
      },
      "id": "7Xj-Uyxra9I1"
    },
    {
      "cell_type": "code",
      "execution_count": 23,
      "metadata": {
        "id": "cFP-PBlHP6h7"
      },
      "outputs": [],
      "source": [
        "from sklearn.metrics import confusion_matrix # confusion matrix"
      ],
      "id": "cFP-PBlHP6h7"
    },
    {
      "cell_type": "markdown",
      "source": [
        "### Example 1: Simple confusion matrix\n",
        "- [0, 1, 0, 1] = First parameter = True labels\n",
        "- [1, 1, 1, 0] = Second parameter = predicted labels\n",
        "- (0, 2, 1, 1) = (true neg, false pos, false neg, true pos)\n",
        "- ravel() flatttens into a 1-dimensional array, instead of 2x2."
      ],
      "metadata": {
        "id": "9ISjwGQqT-_A"
      },
      "id": "9ISjwGQqT-_A"
    },
    {
      "cell_type": "code",
      "execution_count": 24,
      "metadata": {
        "colab": {
          "base_uri": "https://localhost:8080/"
        },
        "id": "f32ZrExeP6h8",
        "outputId": "06f99235-6e48-457b-8bff-e2939a92cc2e"
      },
      "outputs": [
        {
          "output_type": "execute_result",
          "data": {
            "text/plain": [
              "(0, 2, 1, 1)"
            ]
          },
          "metadata": {},
          "execution_count": 24
        }
      ],
      "source": [
        "# Simple confusion matrix\n",
        "tn, fp, fn, tp = confusion_matrix([0, 1, 0, 1], [1, 1, 1, 0]).ravel()\n",
        "(tn, fp, fn, tp)"
      ],
      "id": "f32ZrExeP6h8"
    },
    {
      "cell_type": "markdown",
      "source": [
        "### Example 2: More complex confusion matrix\n",
        "\n",
        "Code\n",
        "- Creates a random classification dataset with default specification parameters. Default - 100 rows (samples), 20 columns (features), 2 informative features, 2 redundant features, 0 repeated and 2 classes (binary). This mean 16 features are noise.\n",
        "- Create SVM classifier\n",
        "- Predicts on the test set (25% of dataset)\n",
        "- Generates and displays confusion matrix\n",
        "\n",
        "Output\n",
        "- Because training set is 25% of full dataset, and full dataset had 100 rows, test set has about 25 total samples.\n",
        "- The confusion matrix is a total of 25 = 13 + 12:\n",
        "- [12, 1] = [TN, FP]\n",
        "- [2, 10] = [FN, TP]\n",
        "- 12 true negative (TN)\n",
        "- 1 false postiive (FP)\n",
        "- 2 false negative (FN)\n",
        "- 10 true positive (TP)\n",
        "\n",
        "\n"
      ],
      "metadata": {
        "id": "4OJk-ysjU8xp"
      },
      "id": "4OJk-ysjU8xp"
    },
    {
      "cell_type": "code",
      "execution_count": 25,
      "metadata": {
        "colab": {
          "base_uri": "https://localhost:8080/",
          "height": 455
        },
        "id": "A0bF_FQOP6h9",
        "outputId": "2ac1a077-9f2c-42bd-c752-2cb537a2e2b2"
      },
      "outputs": [
        {
          "output_type": "display_data",
          "data": {
            "text/plain": [
              "<Figure size 640x480 with 2 Axes>"
            ],
            "image/png": "[encoded data removed]"
          },
          "metadata": {}
        }
      ],
      "source": [
        "# Import libraries\n",
        "import matplotlib.pyplot as plt                      # plotting\n",
        "from sklearn.datasets import make_classification     # create sample dataset\n",
        "from sklearn.metrics import confusion_matrix, ConfusionMatrixDisplay # confusion matrix\n",
        "from sklearn.model_selection import train_test_split # train test split\n",
        "from sklearn.svm import SVC                          # Support Vector Machine classifier\n",
        "\n",
        "# Generate random classification dataset with default specifications\n",
        "X, y = make_classification(random_state=0)\n",
        "\n",
        "# Split data into test and training (default is 75% train, 25% test)\n",
        "X_train, X_test, y_train, y_test = train_test_split(X, y,\n",
        "                                                    random_state=0)\n",
        "# Create Support Vector Machine (SVM) classifier\n",
        "clf = SVC(random_state=0) # Create SVM classifier\n",
        "clf.fit(X_train, y_train) # fit trains SVM classifier on training data\n",
        "SVC(random_state=0)\n",
        "\n",
        "# Predict on the test set\n",
        "predictions = clf.predict(X_test) # Predict on test data\n",
        "\n",
        "# Confusion matrix\n",
        "cm = confusion_matrix(y_test, predictions, labels=clf.classes_)\n",
        "disp = ConfusionMatrixDisplay(confusion_matrix=cm,\n",
        "                               display_labels=clf.classes_)\n",
        "disp.plot()\n",
        "plt.show()"
      ],
      "id": "A0bF_FQOP6h9"
    },
    {
      "cell_type": "code",
      "source": [
        "# MARIA: To get more understanding of the assignment's dataset\n",
        "\n",
        "# Print the shape (number of rows, number of columns) of the features (X)\n",
        "print(\"Shape of X:\", X.shape)\n",
        "\n",
        "# Print the shape of the target variable (y)\n",
        "print(\"Shape of y:\", y.shape)\n",
        "\n",
        "# Print the first 5 rows of the features (X)\n",
        "print(\"First 5 rows of X:\\n\", X[:5])\n",
        "\n",
        "# Print the first 10 values of the target variable (y)\n",
        "print(\"First 10 values of y:\\n\", y[:10])"
      ],
      "metadata": {
        "colab": {
          "base_uri": "https://localhost:8080/"
        },
        "id": "84LMxlbIXdKP",
        "outputId": "25c957b1-ea83-4e06-ef9b-97000e7e38d0"
      },
      "id": "84LMxlbIXdKP",
      "execution_count": 20,
      "outputs": [
        {
          "output_type": "stream",
          "name": "stdout",
          "text": [
            "Shape of X: (100, 20)\n",
            "Shape of y: (100,)\n",
            "First 5 rows of X:\n",
            " [[-0.03926799  0.13191176 -0.21120598 -1.2141474   1.05004467 -0.42132759\n",
            "   0.76877064  0.87569568  2.45122972 -0.48024204 -2.13264106 -0.52325094\n",
            "   0.70869527 -1.98056559 -1.36516288 -0.94893281  1.94709864  1.97698901\n",
            "   1.02122474 -0.46931074]\n",
            " [ 0.77416061  0.10490717 -0.33281176 -1.27034986  0.37911283 -0.82282832\n",
            "  -0.61262574  1.49613964  0.56845892 -0.46749317 -1.80170793 -0.8624933\n",
            "  -0.63119194  0.13391292 -0.97240289 -0.77445897  1.34622107  1.2678044\n",
            "   0.62251914 -1.49026539]\n",
            " [-0.0148577   0.67057045 -0.21416666  0.25020227  0.05548937 -1.56699471\n",
            "   0.03976673  0.26568797  1.84959125  0.71998373  0.27713603 -1.10290621\n",
            "   0.01927938 -0.7075057   0.72310049  0.82140594  0.02461213 -0.10486202\n",
            "  -0.10169727 -0.45130304]\n",
            " [ 0.03890871 -1.55799853 -0.02454942  0.21654345  0.06527398 -0.67559383\n",
            "   0.8449956   2.04207215 -1.10223019 -1.69237044  0.2295539   0.72934635\n",
            "  -0.2987596  -0.50703477  0.038118    0.62656425 -0.57891814 -0.07156026\n",
            "   0.69913615 -0.99336138]\n",
            " [ 0.93644573  1.26507784 -0.51029274 -0.68304936 -1.12784904  0.67997484\n",
            "  -0.70492135 -0.2903971  -0.38687085 -0.80314139 -0.1735695  -0.46433769\n",
            "  -0.55254067  0.21149701  1.3277827  -0.03509518 -0.10128149 -0.80022106\n",
            "   1.02179059 -0.69632665]]\n",
            "First 10 values of y:\n",
            " [0 0 1 1 1 0 0 0 1 1]\n"
          ]
        }
      ]
    },
    {
      "cell_type": "markdown",
      "metadata": {
        "id": "6YLglIxeP6h-"
      },
      "source": [
        "## F1, Accuracy, Recall, AUC and Precision scores\n",
        "\n",
        "- F1 = balanced measure of precision and recall\n",
        "- Accuracy = needoverall correctness\n",
        "- Precision = accuracy of positive predictions\n",
        "- Recall = ability to find all positive instances\n",
        "\n",
        "Best used when:\n",
        "- F1 = a single metric, especially if imbalanced\n",
        "- Accuracy = need overall correctness\n",
        "- Precision = when cost of false positives is high (spam)\n",
        "- Recall = when cost of false negatives is high (diagnosis)\n",
        "\n",
        "Multilabel classsification\n",
        "- E.g. image is beach, sunset and people.\n",
        "- Accuracy may not be a useful metric\n",
        "- F1 score is better for multilabel\n",
        "- The result of [0.67, 1., 0.67] means that for\n",
        "- y_true = [[0, 0, 0], [1, 1, 1], [0, 1, 1]]\n",
        "- y_pred = [[0, 0, 0], [1, 1, 1], [1, 1, 0]]\n",
        "- column 1 is right 2/3 of time (wrong for last one)\n",
        "- column 2 is right all of time\n",
        "- column 3 is right 2/3 of time (wrong for last one)"
      ],
      "id": "6YLglIxeP6h-"
    },
    {
      "cell_type": "markdown",
      "source": [
        "### F1-Score"
      ],
      "metadata": {
        "id": "2JuuAk6-q9V0"
      },
      "id": "2JuuAk6-q9V0"
    },
    {
      "cell_type": "code",
      "execution_count": 27,
      "metadata": {
        "colab": {
          "base_uri": "https://localhost:8080/"
        },
        "id": "c5OHZt3RP6h-",
        "outputId": "5cff366b-4f4a-4e17-90a3-b78a9039012c"
      },
      "outputs": [
        {
          "output_type": "stream",
          "name": "stdout",
          "text": [
            "Macro f1 score: 0.26666666666666666\n",
            "Micro F1: 0.3333333333333333\n",
            "Weighted Average F1: 0.26666666666666666\n",
            "F1 No Average: [0.8 0.  0. ]\n",
            "F1 No Average: [0.66666667 1.         0.66666667]\n"
          ]
        }
      ],
      "source": [
        "from sklearn.metrics import f1_score # F1 score, model performance measure\n",
        "\n",
        "# EXAMPLE 1: Basic F1 calculatin with different averaging methods\n",
        "# F1 = 2 * (Precision * Recall) / (Precision + Recall)\n",
        "# Create sample data with three classes 0, 1, and 2. These are the y.\n",
        "y_true = [0, 1, 2, 0, 1, 2] # True, represents actual data labels\n",
        "y_pred = [0, 2, 1, 0, 0, 1] # Predicted, represents classification predictions\n",
        "\n",
        "# Calculate F1 score fore each class individually, then average\n",
        "print(f\"Macro f1 score: {f1_score(y_true, y_pred, average='macro')}\")\n",
        "\n",
        "# Calculate F1 score globally, considering TP, FN, and FP\n",
        "print(f\"Micro F1: {f1_score(y_true, y_pred, average='micro')}\")\n",
        "\n",
        "# Calculate F1 score for each class, average, and weigh score by number of true instances for class\n",
        "print(f\"Weighted Average F1: {f1_score(y_true, y_pred, average='weighted')}\")\n",
        "\n",
        "# Return F1 score for each individual class, without averaging\n",
        "print(f\"F1 No Average: {f1_score(y_true, y_pred, average=None)}\")\n",
        "\n",
        "\n",
        "# EXAMPLE 2: Handling 0 division\n",
        "# This example only has one class, which is 0.\n",
        "y_true = [0, 0, 0, 0, 0, 0]\n",
        "y_pred = [0, 0, 0, 0, 0, 0]\n",
        "f1_score(y_true, y_pred, zero_division=1)\n",
        "\n",
        "\n",
        "# EXAMPLE 3: multilabel classification\n",
        "y_true = [[0, 0, 0], [1, 1, 1], [0, 1, 1]]\n",
        "y_pred = [[0, 0, 0], [1, 1, 1], [1, 1, 0]]\n",
        "print(f\"F1 No Average: {f1_score(y_true, y_pred, average=None)}\")\n"
      ],
      "id": "c5OHZt3RP6h-"
    },
    {
      "cell_type": "markdown",
      "source": [
        "### Accuracy Score"
      ],
      "metadata": {
        "id": "leLun2L0rAza"
      },
      "id": "leLun2L0rAza"
    },
    {
      "cell_type": "code",
      "execution_count": 30,
      "metadata": {
        "colab": {
          "base_uri": "https://localhost:8080/"
        },
        "id": "m_VfUC01P6h_",
        "outputId": "7928fd00-5cd9-48c8-8b92-b7b4f41f760f"
      },
      "outputs": [
        {
          "output_type": "execute_result",
          "data": {
            "text/plain": [
              "0.5"
            ]
          },
          "metadata": {},
          "execution_count": 30
        }
      ],
      "source": [
        "# accuracy score\n",
        "# accurate half of the time (middle two are inverted)\n",
        "# (True Positives + True Negatives) / (True Positives + True Negatives + False Positives + False Negatives)\n",
        "from sklearn.metrics import accuracy_score\n",
        "y_pred = [0, 2, 1, 3]\n",
        "y_true = [0, 1, 2, 3]\n",
        "accuracy_score(y_true, y_pred)"
      ],
      "id": "m_VfUC01P6h_"
    },
    {
      "cell_type": "markdown",
      "source": [
        "### Precision Score"
      ],
      "metadata": {
        "id": "pgznSJMqrDa4"
      },
      "id": "pgznSJMqrDa4"
    },
    {
      "cell_type": "code",
      "execution_count": 31,
      "metadata": {
        "colab": {
          "base_uri": "https://localhost:8080/"
        },
        "id": "u6FZO3SJP6h_",
        "outputId": "98ee6af5-92eb-4ea0-d93e-c63f75c289f0"
      },
      "outputs": [
        {
          "output_type": "execute_result",
          "data": {
            "text/plain": [
              "0.2222222222222222"
            ]
          },
          "metadata": {},
          "execution_count": 31
        }
      ],
      "source": [
        "# precision score\n",
        "# precision .22 = just over 20%. Not just 2/6. Look at equation.\n",
        "# True Positives / (True Positives + False Positives)\n",
        "from sklearn.metrics import precision_score\n",
        "y_true = [0, 1, 2, 0, 1, 2]\n",
        "y_pred = [0, 2, 1, 0, 0, 1]\n",
        "precision_score(y_true, y_pred, average='macro')"
      ],
      "id": "u6FZO3SJP6h_"
    },
    {
      "cell_type": "markdown",
      "source": [
        "### Recall (Sensitivity) Score"
      ],
      "metadata": {
        "id": "uolO7Bk8rG0h"
      },
      "id": "uolO7Bk8rG0h"
    },
    {
      "cell_type": "code",
      "execution_count": 32,
      "metadata": {
        "colab": {
          "base_uri": "https://localhost:8080/"
        },
        "id": "jvIvPsloP6h_",
        "outputId": "097b7871-e93d-488c-9059-48ab87700b6d"
      },
      "outputs": [
        {
          "output_type": "execute_result",
          "data": {
            "text/plain": [
              "0.3333333333333333"
            ]
          },
          "metadata": {},
          "execution_count": 32
        }
      ],
      "source": [
        "# recall (sensitivity) score\n",
        "# recall is a third.\n",
        "# True Positives / (True Positives + False Negatives)\n",
        "from sklearn.metrics import recall_score\n",
        "y_true = [0, 1, 2, 0, 1, 2]\n",
        "y_pred = [0, 2, 1, 0, 0, 1]\n",
        "recall_score(y_true, y_pred, average='macro')"
      ],
      "id": "jvIvPsloP6h_"
    },
    {
      "cell_type": "markdown",
      "source": [
        "### Classification Report"
      ],
      "metadata": {
        "id": "bPkThUKzrLcn"
      },
      "id": "bPkThUKzrLcn"
    },
    {
      "cell_type": "code",
      "execution_count": 34,
      "metadata": {
        "colab": {
          "base_uri": "https://localhost:8080/"
        },
        "id": "ly5jszbNP6iA",
        "outputId": "92e8e4c3-0524-4eb6-9af3-7f8420c5cb65"
      },
      "outputs": [
        {
          "output_type": "stream",
          "name": "stdout",
          "text": [
            "              precision    recall  f1-score   support\n",
            "\n",
            "     class 0       0.50      1.00      0.67         1\n",
            "     class 1       0.00      0.00      0.00         1\n",
            "     class 2       1.00      0.67      0.80         3\n",
            "\n",
            "    accuracy                           0.60         5\n",
            "   macro avg       0.50      0.56      0.49         5\n",
            "weighted avg       0.70      0.60      0.61         5\n",
            "\n"
          ]
        }
      ],
      "source": [
        "# classification report\n",
        "# precision: of the instances predicted as class, what % were actually that class?\n",
        "# recall: The model identified what % of actual class instances (class 1 is bad)\n",
        "# F1-score: What balance between precision and recall?\n",
        "# Support: How many actual instances of that class?\n",
        "#\n",
        "# Overall: accuracy, micro avg, weighted avg\n",
        "# Accuracy: model correctly classified what percent of data points?\n",
        "# Macro avg: Averaged unweighted mean per label\n",
        "# Weighted avg: Averaged support-weighted mean per label\n",
        "from sklearn.metrics import classification_report\n",
        "y_true = [0, 1, 2, 2, 2]\n",
        "y_pred = [0, 0, 2, 2, 1]\n",
        "target_names = ['class 0', 'class 1', 'class 2']\n",
        "print(classification_report(y_true, y_pred, target_names=target_names))"
      ],
      "id": "ly5jszbNP6iA"
    },
    {
      "cell_type": "markdown",
      "source": [
        "### ROC AUC Score\n",
        "\n",
        "- Compare predicted to actual to determine model's performance"
      ],
      "metadata": {
        "id": "bINdlJGCrP9N"
      },
      "id": "bINdlJGCrP9N"
    },
    {
      "cell_type": "markdown",
      "source": [
        "#### Example 1 (binary): Breast cancer ROC AUC\n",
        "\n",
        "- binary class: malignant or benign"
      ],
      "metadata": {
        "id": "-D2e27aGrh3z"
      },
      "id": "-D2e27aGrh3z"
    },
    {
      "cell_type": "code",
      "execution_count": 10,
      "metadata": {
        "colab": {
          "base_uri": "https://localhost:8080/"
        },
        "id": "ddK_PDNkP6iA",
        "outputId": "a79d59b3-3435-4aae-a3c2-0e8b6a34d2e5"
      },
      "outputs": [
        {
          "output_type": "execute_result",
          "data": {
            "text/plain": [
              "0.994767718408118"
            ]
          },
          "metadata": {},
          "execution_count": 10
        }
      ],
      "source": [
        "from sklearn.datasets import load_breast_cancer # built-in breast cancer dataset\n",
        "from sklearn.linear_model import LogisticRegression # good for binary classification\n",
        "from sklearn.metrics import roc_auc_score # ROC AUC score\n",
        "\n",
        "# load breast cancer dataset\n",
        "X, y = load_breast_cancer(return_X_y=True)\n",
        "\n",
        "# create and train logistic regression model\n",
        "clf = LogisticRegression(solver=\"liblinear\", random_state=0).fit(X, y)\n",
        "\n",
        "# calculate ROC AUC score\n",
        "roc_auc_score(y, clf.predict_proba(X)[:, 1])"
      ],
      "id": "ddK_PDNkP6iA"
    },
    {
      "cell_type": "markdown",
      "source": [
        "#### Example 2 (multiclass): Iris ROC AUC\n",
        "\n",
        "- multiclass: setosa, versicolor, virginica\n",
        "- multi_class = 'ovr' = one-vs-rest which treats this as a binary classification problem against the rest of the classes. Scores are averaged to get overall ROC AUC score."
      ],
      "metadata": {
        "id": "zFglEYdSrrHZ"
      },
      "id": "zFglEYdSrrHZ"
    },
    {
      "cell_type": "code",
      "execution_count": 35,
      "metadata": {
        "colab": {
          "base_uri": "https://localhost:8080/"
        },
        "id": "A6sWNI6vP6iA",
        "outputId": "ea8e56f2-61b6-44e2-ca03-bc62aab48d4e"
      },
      "outputs": [
        {
          "output_type": "execute_result",
          "data": {
            "text/plain": [
              "0.9913333333333334"
            ]
          },
          "metadata": {},
          "execution_count": 35
        }
      ],
      "source": [
        "from sklearn.datasets import load_iris # built-in Iris dataset\n",
        "\n",
        "# load the iris dataset\n",
        "X, y = load_iris(return_X_y=True)\n",
        "\n",
        "# create and train logistic regression model\n",
        "clf = LogisticRegression(solver=\"liblinear\").fit(X, y)\n",
        "\n",
        "# calculate ROC AUC score\n",
        "roc_auc_score(y, clf.predict_proba(X), multi_class='ovr')"
      ],
      "id": "A6sWNI6vP6iA"
    },
    {
      "cell_type": "code",
      "execution_count": 12,
      "metadata": {
        "id": "tFXY3JFwP6iB"
      },
      "outputs": [],
      "source": [
        "import numpy as np\n",
        "import matplotlib.pyplot as plt\n",
        "from itertools import cycle\n",
        "\n",
        "from sklearn import svm, datasets\n",
        "from sklearn.metrics import roc_curve, auc\n",
        "from sklearn.model_selection import train_test_split\n",
        "from sklearn.preprocessing import label_binarize\n",
        "from sklearn.multiclass import OneVsRestClassifier\n",
        "from sklearn.metrics import roc_auc_score\n",
        "\n",
        "# Import iris data to play with\n",
        "iris = datasets.load_iris()\n",
        "X = iris.data\n",
        "y = iris.target\n",
        "\n",
        "# Binarize the output\n",
        "y = label_binarize(y, classes=[0, 1, 2])\n",
        "n_classes = y.shape[1]\n",
        "\n",
        "# Add noisy features to make the problem harder\n",
        "random_state = np.random.RandomState(0)\n",
        "n_samples, n_features = X.shape\n",
        "X = np.c_[X, random_state.randn(n_samples, 200 * n_features)]\n",
        "\n",
        "# Shuffle and split training and test sets\n",
        "X_train, X_test, y_train, y_test = train_test_split(X, y, test_size=0.5, random_state=0)\n",
        "\n",
        "# Learn to predict each class against the other\n",
        "classifier = OneVsRestClassifier(\n",
        "    svm.SVC(kernel=\"linear\", probability=True, random_state=random_state)\n",
        ")\n",
        "y_score = classifier.fit(X_train, y_train).decision_function(X_test)\n",
        "\n",
        "# Compute ROC curve and ROC area for each class\n",
        "fpr = dict()\n",
        "tpr = dict()\n",
        "roc_auc = dict()\n",
        "for i in range(n_classes):\n",
        "    fpr[i], tpr[i], _ = roc_curve(y_test[:, i], y_score[:, i])\n",
        "    roc_auc[i] = auc(fpr[i], tpr[i])\n",
        "\n",
        "# Compute micro-average ROC curve and ROC area\n",
        "fpr[\"micro\"], tpr[\"micro\"], _ = roc_curve(y_test.ravel(), y_score.ravel())\n",
        "roc_auc[\"micro\"] = auc(fpr[\"micro\"], tpr[\"micro\"])"
      ],
      "id": "tFXY3JFwP6iB"
    },
    {
      "cell_type": "code",
      "execution_count": 13,
      "metadata": {
        "colab": {
          "base_uri": "https://localhost:8080/",
          "height": 472
        },
        "id": "QCe29PkfP6iC",
        "outputId": "39c77743-be37-401e-964b-2d03f3336a0a"
      },
      "outputs": [
        {
          "output_type": "display_data",
          "data": {
            "text/plain": [
              "<Figure size 640x480 with 1 Axes>"
            ],
            "image/png": "[encoded data removed]"
          },
          "metadata": {}
        }
      ],
      "source": [
        "plt.figure()\n",
        "lw = 2\n",
        "plt.plot(\n",
        "    fpr[2],\n",
        "    tpr[2],\n",
        "    color=\"darkorange\",\n",
        "    lw=lw,\n",
        "    label=\"ROC curve (area = %0.2f)\" % roc_auc[2],\n",
        ")\n",
        "plt.plot([0, 1], [0, 1], color=\"navy\", lw=lw, linestyle=\"--\")\n",
        "plt.xlim([0.0, 1.0])\n",
        "plt.ylim([0.0, 1.05])\n",
        "plt.xlabel(\"False Positive Rate\")\n",
        "plt.ylabel(\"True Positive Rate\")\n",
        "plt.title(\"Receiver operating characteristic example\")\n",
        "plt.legend(loc=\"lower right\")\n",
        "plt.show()\n"
      ],
      "id": "QCe29PkfP6iC"
    },
    {
      "cell_type": "markdown",
      "source": [
        "#### MARIA: CHANGE PARAMETERS AND OBSERVE IMPACT ON ROC AUC"
      ],
      "metadata": {
        "id": "LvVTpUg7xA_K"
      },
      "id": "LvVTpUg7xA_K"
    },
    {
      "cell_type": "code",
      "source": [
        "import numpy as np\n",
        "import matplotlib.pyplot as plt\n",
        "from itertools import cycle\n",
        "\n",
        "from sklearn import svm, datasets\n",
        "from sklearn.metrics import roc_curve, auc\n",
        "from sklearn.model_selection import train_test_split\n",
        "from sklearn.preprocessing import label_binarize\n",
        "from sklearn.multiclass import OneVsRestClassifier\n",
        "from sklearn.metrics import roc_auc_score\n",
        "\n",
        "# Import iris data to play with\n",
        "iris = datasets.load_iris()\n",
        "X = iris.data\n",
        "y = iris.target\n",
        "\n",
        "# Binarize the output\n",
        "y = label_binarize(y, classes=[0, 1, 2])\n",
        "n_classes = y.shape[1]\n",
        "\n",
        "# Add noisy features to make the problem harder\n",
        "random_state = np.random.RandomState(0)\n",
        "n_samples, n_features = X.shape\n",
        "X = np.c_[X, random_state.randn(n_samples, 200 * n_features)]\n",
        "\n",
        "# Shuffle and split training and test sets\n",
        "X_train, X_test, y_train, y_test = train_test_split(X, y, test_size=0.5, random_state=0)\n",
        "\n",
        "# Learn to predict each class against the other\n",
        "classifier = OneVsRestClassifier(\n",
        "    svm.SVC(kernel=\"linear\", probability=True, random_state=random_state)\n",
        ")\n",
        "y_score = classifier.fit(X_train, y_train).decision_function(X_test)\n",
        "\n",
        "# Compute ROC curve and ROC area for each class\n",
        "fpr = dict()\n",
        "tpr = dict()\n",
        "roc_auc = dict()\n",
        "for i in range(n_classes):\n",
        "    fpr[i], tpr[i], _ = roc_curve(y_test[:, i], y_score[:, i])\n",
        "    roc_auc[i] = auc(fpr[i], tpr[i])"
      ],
      "metadata": {
        "id": "x5acU9032ecl"
      },
      "id": "x5acU9032ecl",
      "execution_count": 38,
      "outputs": []
    },
    {
      "cell_type": "markdown",
      "source": [
        "#### Compare micro, macro, and weighted\n",
        "\n"
      ],
      "metadata": {
        "id": "SKpmyiS0Ab4q"
      },
      "id": "SKpmyiS0Ab4q"
    },
    {
      "cell_type": "code",
      "source": [
        "# Example 1: Original: Compute micro-average ROC curve and ROC area\n",
        "fpr[\"micro\"], tpr[\"micro\"], _ = roc_curve(y_test.ravel(), y_score.ravel())\n",
        "roc_auc[\"micro\"] = auc(fpr[\"micro\"], tpr[\"micro\"])\n",
        "\n",
        "# Example 2: Compute macro-average ROC curve and ROC area\n",
        "fpr[\"macro\"], tpr[\"macro\"], _ = roc_curve(y_test.ravel(), y_score.ravel())\n",
        "roc_auc[\"macro\"] = auc(fpr[\"macro\"], tpr[\"macro\"])\n",
        "\n",
        "# Exampel 3: Compute macro and weighted AUCs\n",
        "roc_auc[\"macro\"] = np.mean(list(roc_auc.values())[:n_classes])\n",
        "class_counts = np.sum(y_test, axis=0)\n",
        "total_counts = np.sum(class_counts)\n",
        "weights = class_counts / total_counts\n",
        "roc_auc[\"weighted\"] = np.sum([roc_auc[i] * weights[i] for i in range(n_classes)])\n",
        "\n",
        "# Print AUCs\n",
        "print(\"Micro-average AUC:\", roc_auc[\"micro\"])\n",
        "print(\"Macro-average AUC:\", roc_auc[\"macro\"])\n",
        "print(\"Weighted-average AUC:\", roc_auc[\"weighted\"])"
      ],
      "metadata": {
        "colab": {
          "base_uri": "https://localhost:8080/"
        },
        "id": "DhTXlTQA2nRI",
        "outputId": "8b49c2f7-ee15-46fa-fd96-3ae31db20d9b"
      },
      "id": "DhTXlTQA2nRI",
      "execution_count": 59,
      "outputs": [
        {
          "output_type": "stream",
          "name": "stdout",
          "text": [
            "Micro-average AUC: 0.7277333333333333\n",
            "Macro-average AUC: 0.7677222740948232\n",
            "Weighted-average AUC: 0.7488017429193901\n"
          ]
        }
      ]
    },
    {
      "cell_type": "markdown",
      "source": [
        "# Commpare ROC AUC plots: micro (class 2), micro-averaged, macro, and weighted\n",
        "\n",
        "1. Original: micro class 2\n",
        "- micro = overall prediction performance (good for imbalanced datasets).\n",
        "- false positive rate for class 2\n",
        "- true positive rate for class 2\n",
        "\n",
        "2. micro-average\n",
        "- FPR and TPR micro-average\n",
        "\n",
        "3. macro-average\n",
        "\n",
        "4. weighted-average"
      ],
      "metadata": {
        "id": "yD6W-Ir7Fexm"
      },
      "id": "yD6W-Ir7Fexm"
    },
    {
      "cell_type": "code",
      "source": [
        "# Draw the ROC AUC for class 2\n",
        "plt.figure()\n",
        "lw = 2\n",
        "\n",
        "# Example 2: Add ROC AUC micro-averaged FPR and TPR across all classes.\n",
        "plt.plot(\n",
        "    fpr[\"micro\"], # false positive rate for micro-averaged\n",
        "    tpr[\"micro\"], # true positive rate for micro-averaged\n",
        "    color=\"blue\",\n",
        "    lw=lw,\n",
        "    label=\"ROC curve (micro) (area = %0.2f)\" % roc_auc[\"micro\"],\n",
        ")\n",
        "\n",
        "# Example 2: Add ROC AUC micro-averaged FPR and TPR across all classes.\n",
        "plt.plot(\n",
        "    fpr[\"macro\"], # false positive rate for micro-averaged\n",
        "    tpr[\"macro\"], # true positive rate for micro-averaged\n",
        "    linestyle=\"--\",\n",
        "    color=\"yellow\",\n",
        "    lw=lw,\n",
        "    label=\"ROC curve (macro) (area = %0.2f)\" % roc_auc[\"macro\"],\n",
        ")\n",
        "\n",
        "# Example 3:\n",
        "# Plot individual ROC curves for each class\n",
        "colors = cycle([\"red\", \"deeppink\", \"darkorange\"])\n",
        "for i, color in zip(range(n_classes), colors):\n",
        "    plt.plot(\n",
        "        fpr[i],\n",
        "        tpr[i],\n",
        "        color=color,\n",
        "        lw=lw,\n",
        "        label=\"ROC curve of class {0} (area = {1:0.2f})\".format(i, roc_auc[i]),\n",
        "    )\n",
        "\n",
        "plt.plot([0, 1], [0, 1], color=\"gray\", lw=lw, linestyle=\"--\")\n",
        "plt.xlim([0.0, 1.0])\n",
        "plt.ylim([0.0, 1.05])\n",
        "plt.xlabel(\"False Positive Rate\")\n",
        "plt.ylabel(\"True Positive Rate\")\n",
        "plt.title(\"Receiver operating characteristic example\")\n",
        "plt.legend(loc=\"lower right\")\n",
        "plt.show()"
      ],
      "metadata": {
        "id": "KuvSlUUAEvdv",
        "outputId": "e6c9de4e-141b-49f3-9dfe-4cba9aa7d32c",
        "colab": {
          "base_uri": "https://localhost:8080/",
          "height": 472
        }
      },
      "id": "KuvSlUUAEvdv",
      "execution_count": 73,
      "outputs": [
        {
          "output_type": "display_data",
          "data": {
            "text/plain": [
              "<Figure size 640x480 with 1 Axes>"
            ],
            "image/png": "[encoded data removed]"
          },
          "metadata": {}
        }
      ]
    },
    {
      "cell_type": "markdown",
      "source": [
        "### Log Loss"
      ],
      "metadata": {
        "id": "bH62qJ-nwHfH"
      },
      "id": "bH62qJ-nwHfH"
    },
    {
      "cell_type": "code",
      "execution_count": 14,
      "metadata": {
        "colab": {
          "base_uri": "https://localhost:8080/"
        },
        "id": "XUeln_M8P6iC",
        "outputId": "1e2e9197-c793-47a9-fe25-3ea744d758dd"
      },
      "outputs": [
        {
          "output_type": "execute_result",
          "data": {
            "text/plain": [
              "0.21616187468057912"
            ]
          },
          "metadata": {},
          "execution_count": 14
        }
      ],
      "source": [
        "from sklearn.metrics import log_loss\n",
        "log_loss([\"spam\", \"ham\", \"ham\", \"spam\"], [[.1, .9], [.9, .1], [.8, .2], [.35, .65]])"
      ],
      "id": "XUeln_M8P6iC"
    },
    {
      "cell_type": "markdown",
      "metadata": {
        "id": "xoJ4htmwP6iD"
      },
      "source": [
        "## Regression metrics"
      ],
      "id": "xoJ4htmwP6iD"
    },
    {
      "cell_type": "markdown",
      "metadata": {
        "id": "5wZ_nJ_NP6iD"
      },
      "source": [
        "### RMSE"
      ],
      "id": "5wZ_nJ_NP6iD"
    },
    {
      "cell_type": "code",
      "execution_count": 15,
      "metadata": {
        "colab": {
          "base_uri": "https://localhost:8080/"
        },
        "id": "CrUba-6QP6iD",
        "outputId": "c4776f62-b3d1-41e8-b8f5-ac69c3e0a791"
      },
      "outputs": [
        {
          "output_type": "execute_result",
          "data": {
            "text/plain": [
              "0.375"
            ]
          },
          "metadata": {},
          "execution_count": 15
        }
      ],
      "source": [
        "from sklearn.metrics import mean_squared_error\n",
        "y_true = [3, -0.5, 2, 7]\n",
        "y_pred = [2.5, 0.0, 2, 8]\n",
        "mean_squared_error(y_true, y_pred)"
      ],
      "id": "CrUba-6QP6iD"
    },
    {
      "cell_type": "markdown",
      "metadata": {
        "id": "p8x6naWIP6iE"
      },
      "source": [
        "### MAE"
      ],
      "id": "p8x6naWIP6iE"
    },
    {
      "cell_type": "code",
      "execution_count": 16,
      "metadata": {
        "colab": {
          "base_uri": "https://localhost:8080/"
        },
        "id": "8hl4ik2hP6iE",
        "outputId": "31e4e7a4-dda2-449f-b3ee-1029fd169052"
      },
      "outputs": [
        {
          "output_type": "execute_result",
          "data": {
            "text/plain": [
              "0.5"
            ]
          },
          "metadata": {},
          "execution_count": 16
        }
      ],
      "source": [
        "from sklearn.metrics import mean_absolute_error\n",
        "y_true = [3, -0.5, 2, 7]\n",
        "y_pred = [2.5, 0.0, 2, 8]\n",
        "mean_absolute_error(y_true, y_pred)"
      ],
      "id": "8hl4ik2hP6iE"
    },
    {
      "cell_type": "markdown",
      "metadata": {
        "id": "4juYkWIBP6iE"
      },
      "source": [
        "### r squared"
      ],
      "id": "4juYkWIBP6iE"
    },
    {
      "cell_type": "code",
      "execution_count": 17,
      "metadata": {
        "colab": {
          "base_uri": "https://localhost:8080/"
        },
        "id": "XvVXIOG4P6iE",
        "outputId": "75d80111-676d-4595-a3fc-769625f65f3a"
      },
      "outputs": [
        {
          "output_type": "execute_result",
          "data": {
            "text/plain": [
              "0.9486081370449679"
            ]
          },
          "metadata": {},
          "execution_count": 17
        }
      ],
      "source": [
        "from sklearn.metrics import r2_score\n",
        "\n",
        "r2_score(y_true, y_pred)"
      ],
      "id": "XvVXIOG4P6iE"
    },
    {
      "cell_type": "code",
      "execution_count": null,
      "metadata": {
        "id": "plzZNVLXP6iF"
      },
      "outputs": [],
      "source": [],
      "id": "plzZNVLXP6iF"
    },
    {
      "cell_type": "code",
      "execution_count": null,
      "metadata": {
        "id": "DJPK6dLSP6iF"
      },
      "outputs": [],
      "source": [],
      "id": "DJPK6dLSP6iF"
    }
  ],
  "metadata": {
    "kernelspec": {
      "display_name": "Python 3",
      "name": "python3"
    },
    "language_info": {
      "codemirror_mode": {
        "name": "ipython",
        "version": 3
      },
      "file_extension": ".py",
      "mimetype": "text/x-python",
      "name": "python",
      "nbconvert_exporter": "python",
      "pygments_lexer": "ipython3",
      "version": "3.7.6"
    },
    "colab": {
      "provenance": [],
      "toc_visible": true,
      "gpuType": "T4"
    },
    "accelerator": "GPU"
  },
  "nbformat": 4,
  "nbformat_minor": 5
}